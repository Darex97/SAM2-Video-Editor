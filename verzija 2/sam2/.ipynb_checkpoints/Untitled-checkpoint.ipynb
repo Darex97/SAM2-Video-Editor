{
 "cells": [
  {
   "cell_type": "code",
   "execution_count": null,
   "id": "560e3c95-87ba-45a9-bc0d-d62f773ef7ca",
   "metadata": {},
   "outputs": [],
   "source": [
    "!pip install opencv-python"
   ]
  }
 ],
 "metadata": {
  "kernelspec": {
   "display_name": "Python 3 (ipykernel)",
   "language": "python",
   "name": "python3"
  },
  "language_info": {
   "codemirror_mode": {
    "name": "ipython",
    "version": 3
   },
   "file_extension": ".py",
   "mimetype": "text/x-python",
   "name": "python",
   "nbconvert_exporter": "python",
   "pygments_lexer": "ipython3",
   "version": "3.11.1"
  }
 },
 "nbformat": 4,
 "nbformat_minor": 5
}
